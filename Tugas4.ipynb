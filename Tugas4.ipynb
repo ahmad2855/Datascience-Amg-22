{
  "nbformat": 4,
  "nbformat_minor": 0,
  "metadata": {
    "colab": {
      "provenance": []
    },
    "kernelspec": {
      "name": "python3",
      "display_name": "Python 3"
    },
    "language_info": {
      "name": "python"
    }
  },
  "cells": [
    {
      "cell_type": "code",
      "execution_count": null,
      "metadata": {
        "id": "bAuXbX93QEwZ",
        "colab": {
          "base_uri": "https://localhost:8080/",
          "height": 543
        },
        "outputId": "8fb189cf-2cc2-4275-f449-72fef19a842f"
      },
      "outputs": [
        {
          "output_type": "stream",
          "name": "stdout",
          "text": [
            "=============Soal no 1=====================\n",
            "maka total makanan yang dipesan : 24\n",
            "maka jumlah harga keseluruhan adalah : 545000\n",
            "\n",
            "=============soal no 2=================\n",
            "maka persentasinya : 0.25\n",
            "maka persentasinya : 0.125\n",
            "maka persentasinya : 0.16666666666666666\n",
            "maka persentasinya : 0.16666666666666666\n",
            "maka persentasinya : 0.08333333333333333\n",
            "maka persentasinya : 0.20833333333333334\n",
            "\n"
          ]
        },
        {
          "output_type": "display_data",
          "data": {
            "text/plain": [
              "<Figure size 432x288 with 1 Axes>"
            ],
            "image/png": "[encoded data removed]"
          },
          "metadata": {}
        }
      ],
      "source": [
        "print(\"=============Soal no 1=====================\")\n",
        "Burger = 6\n",
        "Pizza =\t3\n",
        "Dimsum = 4\n",
        "Ekkado =\t4\n",
        "Milkshake =\t2\n",
        "Eskrim =\t5\n",
        "\n",
        "total = Burger + Pizza + Dimsum + Ekkado + Milkshake + Eskrim\n",
        "jumlah = (Burger * 24000) + (Pizza * 52000) + (Dimsum * 30000) + (Ekkado * 7500) + (Milkshake * 10000) + (Eskrim * 15000)\n",
        "\n",
        "print(\"maka total makanan yang dipesan : \" + str(total))\n",
        "print(\"maka jumlah harga keseluruhan adalah : \" + str(jumlah))\n",
        "\n",
        "print(\"\")\n",
        "print(\"=============soal no 2=================\")\n",
        "\n",
        "\n",
        "pn_burger = Burger / 24\n",
        "print(\"maka persentasinya : \" + str(pn_burger))\n",
        "\n",
        "pn_pizza = Pizza / 24\n",
        "print(\"maka persentasinya : \" + str(pn_pizza))\n",
        "\n",
        "pn_dimsum = Dimsum / 24\n",
        "print(\"maka persentasinya : \" + str(pn_dimsum))\n",
        "\n",
        "pn_ekado = Ekkado / 24\n",
        "print(\"maka persentasinya : \" + str(pn_ekado))\n",
        "\n",
        "pn_milsek = Milkshake / 24\n",
        "print(\"maka persentasinya : \" + str(pn_milsek))\n",
        "\n",
        "pn_ekim = Eskrim / 24\n",
        "print(\"maka persentasinya : \" + str(pn_ekim))\n",
        "\n",
        "import matplotlib.pyplot as plt\n",
        "\n",
        "print(\"\")\n",
        "fig = plt.figure()\n",
        "ax = fig.add_axes([0,0,1,1])\n",
        "ax.axis('equal')\n",
        "pesan = [\"Burger\", \"Pizza\", \"Dimsum\", \"Ekkado\", \"Milkshake\", \"Eskrim\"]\n",
        "jumlah = [25, 12, 16, 16, 8, 20 ]\n",
        "ax.pie(jumlah, labels=pesan,autopct='%1.2f%%')\n",
        "plt.title(\"Persentase Pesanan\")\n",
        "plt.show()\n",
        "\n",
        "\n",
        "\n"
      ]
    },
    {
      "cell_type": "code",
      "source": [
        "print(\"=================soal no 3=====================\")\n",
        "\n",
        "print(\"pesanan Ahmad\")\n",
        "Burger = 4\n",
        "Pizza = 2\n",
        "uang_ahmad = 200000\n",
        "hasil = (0.70 * ((Burger * 24000) + (Pizza * 52000))) + (7.5 * 2000) - 5000\n",
        "kem = uang_ahmad - hasil\n",
        "\n",
        "print(\"maka hasilnya : \" + str(hasil))\n",
        "print(\"maka total kembalian ahmad adalah : \" + str(kem))\n",
        "print(\"\")\n",
        "print(\"pesanan Beni\")\n",
        "Dimsum = 3\n",
        "Eskrim = 1\n",
        "Milkshake = 2\n",
        "uang_beni = 150000\n",
        "hasil = (0.70 * ((Dimsum * 30000) + (Eskrim * 15000) + (Milkshake * 10000))) + (4 * 1800) - 5000\n",
        "\n",
        "kemb = uang_beni - hasil\n",
        "print(\"maka hasilnya : \" + str(hasil))\n",
        "\n",
        "print(\"maka kembaliannya adalah + potongan ongkir 5000 : \" + str(kemb))\n",
        "\n",
        "print(\"\")\n",
        "print(\"pesanan Citra\")\n",
        "\n",
        "Eskrim = 3\n",
        "uang_citra = 60000\n",
        "\n",
        "hasil =  (Eskrim * 15000) + (8 * 2000) - 5000\n",
        "\n",
        "kemb = uang_citra - hasil\n",
        "\n",
        "print(\"maka hasilnya : \" + str(hasil))\n",
        "\n",
        "print(\"maka kembaliannya adalah + potongan ongkir 5000 : \" + str(kemb))\n",
        "\n",
        "print(\"\")\n",
        "print(\"pesanan Dadang\")\n",
        "Burger = 2\n",
        "Dimsum = 1\n",
        "uang_dadang = 100000\n",
        "\n",
        "hasil =  (0.80 * ((Burger * 24000) + (Dimsum * 30000))) + (5 * 1800) - 5000\n",
        "\n",
        "kemb = uang_dadang - hasil\n",
        "\n",
        "print(\"maka hasilnya : \" + str(hasil))\n",
        "print(\"maka kembaliannya adalah + potongan ongkir 5000 : \" + str(kemb))\n",
        "\n",
        "print(\"\")\n",
        "print(\"pesanan Epen\")\n",
        "Ekkado = 4\n",
        "Eskrim = 1\n",
        "Pizza = 1\n",
        "uang_epen = 100000\n",
        "\n",
        "hasil =  (0.70 * ((Ekkado * 7500) + (Eskrim * 15000) + (Pizza * 52000))) + (12 * 2200) - 5000\n",
        "\n",
        "kemb = uang_epen - hasil\n",
        "\n",
        "print(\"maka hasilnya : \" + str(hasil))\n",
        "\n",
        "print(\"maka kembaliannya adalah + potongan ongkir 5000 : \" + str(kemb))\n",
        "\n",
        "\n",
        "print(\"\")\n",
        "print(\"==========================soal no 4 ======================================\")\n",
        "\n",
        "burger = 4\n",
        "pizza = 2\n",
        "\n",
        "hasil = (0.30 * ((burger * 24000) + (pizza * 52000))) + 5000 \n",
        "print(\"maka jumlah potongan ahmad : \" + str(hasil))\n",
        "\n",
        "dimsum = 3\n",
        "eskrim = 1\n",
        "milsek = 2\n",
        "\n",
        "hasil2 = (0.30 * ((dimsum * 30000) + (eskrim * 15000) + (milsek * 10000))) + 5000 \n",
        "print(\"maka jumlah potongan beni : \" + str(hasil2))\n",
        "\n",
        "\n",
        "potongan_citra = 5000\n",
        "print(\"maka jumlah potongan citra : \" + str(potongan_citra))\n",
        "\n",
        "burger = 2\n",
        "dimsum = 1\n",
        "\n",
        "hasil3 = (0.20 * ((burger * 24000) +  (dimsum * 30000))) + 5000 \n",
        "print(\"maka jumlah potongan dadang : \" + str(hasil3))\n",
        "\n",
        "Ekkado = 4\n",
        "eskrim = 1\n",
        "pizza = 1\n",
        "hasil4 = (0.30 * ((Ekkado * 7500) +  (eskrim * 15000) + (pizza * 52000))) + 5000 \n",
        "print(\"maka jumlah potongan epen : \" + str(hasil4))\n",
        "\n",
        "total = hasil + potongan_citra + hasil2 + hasil3 + hasil4\n",
        "print(\"maka jumlah potongan total semua pembeli : \" + str(total))"
      ],
      "metadata": {
        "colab": {
          "base_uri": "https://localhost:8080/"
        },
        "id": "v4T7Xkpkb8tL",
        "outputId": "e8233925-4323-4ace-d626-a449e92f3e1f"
      },
      "execution_count": null,
      "outputs": [
        {
          "output_type": "stream",
          "name": "stdout",
          "text": [
            "=================soal no 3=====================\n",
            "pesanan Ahmad\n",
            "maka hasilnya : 150000.0\n",
            "maka total kembalian ahmad adalah : 50000.0\n",
            "\n",
            "pesanan Beni\n",
            "maka hasilnya : 89700.0\n",
            "maka kembaliannya adalah + potongan ongkir 5000 : 60300.0\n",
            "\n",
            "pesanan Citra\n",
            "maka hasilnya : 56000\n",
            "maka kembaliannya adalah + potongan ongkir 5000 : 4000\n",
            "\n",
            "pesanan Dadang\n",
            "maka hasilnya : 66400.0\n",
            "maka kembaliannya adalah + potongan ongkir 5000 : 33600.0\n",
            "\n",
            "pesanan Epen\n",
            "maka hasilnya : 89300.0\n",
            "maka kembaliannya adalah + potongan ongkir 5000 : 10700.0\n",
            "\n",
            "==========================soal no 4 ======================================\n",
            "maka jumlah potongan ahmad : 65000.0\n",
            "maka jumlah potongan beni : 42500.0\n",
            "maka jumlah potongan citra : 5000\n",
            "maka jumlah potongan dadang : 20600.0\n",
            "maka jumlah potongan epen : 34100.0\n",
            "maka jumlah potongan total semua pembeli : 167200.0\n"
          ]
        }
      ]
    },
    {
      "cell_type": "code",
      "source": [
        "print(\"===============soal no 5 ==================\")\n",
        "jarak = 7.5\n",
        "ongkir = 2000 #15000\n",
        "jarak_2 = 4\n",
        "ongkir_2 = 1800 #7200\n",
        "jarak_3 = 8\n",
        "ongkir_3 = 2000 #16000\n",
        "jarak_4 = 5\n",
        "ongkir_4 = 1800 #9000\n",
        "jarak_5 = 12\n",
        "ongkir_5 = 2200 #26400\n",
        "\n",
        "hasil = (jarak * ongkir) + (jarak_2 * ongkir_2) + (jarak_3 * ongkir_3) + (jarak_4 * ongkir_4) + (jarak_5 * ongkir_5)\n",
        "print(\"maka total ongkir semua pembeli adalah : Rp.\" + str(hasil))"
      ],
      "metadata": {
        "colab": {
          "base_uri": "https://localhost:8080/"
        },
        "id": "PnA6Z3W4prTK",
        "outputId": "ea3afabe-5b3e-486b-c9ac-157cc16f7f62"
      },
      "execution_count": null,
      "outputs": [
        {
          "output_type": "stream",
          "name": "stdout",
          "text": [
            "===============soal no 5 ==================\n",
            "maka total ongkir semua pembeli adalah : Rp.73600.0\n"
          ]
        }
      ]
    }
  ]
}